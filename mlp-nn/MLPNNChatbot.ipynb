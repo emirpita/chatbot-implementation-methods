{
  "nbformat": 4,
  "nbformat_minor": 0,
  "metadata": {
    "colab": {
      "name": "MLPNNChatbot.ipynb",
      "provenance": [],
      "collapsed_sections": []
    },
    "kernelspec": {
      "name": "python3",
      "display_name": "Python 3"
    },
    "language_info": {
      "name": "python"
    }
  },
  "cells": [
    {
      "cell_type": "markdown",
      "source": [
        "**Implementacija jednostavnog chatbota koristeći MLP NN**\n",
        "\n",
        "Ovaj notebook predstavlja osnovni set koraka za implementaciju jednostavnog chatbota na bazi dubokog i/ili mašinskog učenja koristeći Multi-level perceprton neuronsku mrežu (Sequential model)."
      ],
      "metadata": {
        "id": "M45tPtETT2BX"
      }
    },
    {
      "cell_type": "markdown",
      "source": [
        "Osnovni importi"
      ],
      "metadata": {
        "id": "6uIT6dTJVwwZ"
      }
    },
    {
      "cell_type": "code",
      "source": [
        "%pip install keras"
      ],
      "metadata": {
        "colab": {
          "base_uri": "https://localhost:8080/"
        },
        "id": "xvag31mcUlz1",
        "outputId": "70992b16-f8c1-48a6-dc28-96b46d43b1e5"
      },
      "execution_count": null,
      "outputs": [
        {
          "output_type": "stream",
          "name": "stdout",
          "text": [
            "Looking in indexes: https://pypi.org/simple, https://us-python.pkg.dev/colab-wheels/public/simple/\n",
            "Requirement already satisfied: keras in /usr/local/lib/python3.7/dist-packages (2.8.0)\n"
          ]
        }
      ]
    },
    {
      "cell_type": "code",
      "execution_count": 1,
      "metadata": {
        "id": "rKr1I8wWST5x",
        "colab": {
          "base_uri": "https://localhost:8080/"
        },
        "outputId": "0286e8f7-9cd0-4873-a3b1-4acfb493ae67"
      },
      "outputs": [
        {
          "output_type": "stream",
          "name": "stdout",
          "text": [
            "[nltk_data] Downloading package punkt to /root/nltk_data...\n",
            "[nltk_data]   Unzipping tokenizers/punkt.zip.\n",
            "[nltk_data] Downloading package wordnet to /root/nltk_data...\n",
            "[nltk_data]   Unzipping corpora/wordnet.zip.\n"
          ]
        },
        {
          "output_type": "execute_result",
          "data": {
            "text/plain": [
              "True"
            ]
          },
          "metadata": {},
          "execution_count": 1
        }
      ],
      "source": [
        "import json\n",
        "import string\n",
        "import random\n",
        "import nltk\n",
        "import numpy as np\n",
        "from nltk.stem import WordNetLemmatizer \n",
        "import tensorflow as tf\n",
        "from tensorflow.keras import Sequential \n",
        "from tensorflow.keras.layers import Dense, Dropout\n",
        "\n",
        "nltk.download(\"punkt\")\n",
        "nltk.download(\"wordnet\")"
      ]
    },
    {
      "cell_type": "markdown",
      "source": [
        "Učitavanje podataka"
      ],
      "metadata": {
        "id": "U1-n18fpVyW6"
      }
    },
    {
      "cell_type": "code",
      "source": [
        "from google.colab import drive\n",
        "drive.mount('/content/drive')\n",
        "\n",
        "f = open('/content/drive/My Drive/BasicNNChatbot/intents.json',)\n",
        "\n",
        "data = json.load(f)"
      ],
      "metadata": {
        "colab": {
          "base_uri": "https://localhost:8080/"
        },
        "id": "R0_GseFZVCp0",
        "outputId": "c436954a-785e-46b0-bb72-f7c4b5ab6815"
      },
      "execution_count": 2,
      "outputs": [
        {
          "output_type": "stream",
          "name": "stdout",
          "text": [
            "Mounted at /content/drive\n"
          ]
        }
      ]
    },
    {
      "cell_type": "markdown",
      "source": [
        "Pretprocesiranje podataka"
      ],
      "metadata": {
        "id": "HFntEvBbVsI9"
      }
    },
    {
      "cell_type": "code",
      "source": [
        "# Inicijalizacija lemmatizatora da bismo dobili korijen svake riječi \n",
        "# (stem)\n",
        "\n",
        "lemmatizer = WordNetLemmatizer()\n",
        "\n",
        "words = []\n",
        "classes = []\n",
        "doc_X = []\n",
        "doc_y = []\n",
        "\n",
        "# Liste za sve kategorije podataka\n",
        "# Tokenizacija svakog obrasca/patterna i dodavanje u pojedine liste\n",
        "for intent in data[\"intents\"]:\n",
        "  for pattern in intent[\"patterns\"]:\n",
        "      tokens = nltk.word_tokenize(pattern)\n",
        "      words.extend(tokens)\n",
        "      doc_X.append(pattern)\n",
        "      doc_y.append(intent[\"tag\"])\n",
        "\n",
        "  # Dodavanje taga u listu klasa, ukoliko vec ne postoji \n",
        "  if intent[\"tag\"] not in classes:\n",
        "      classes.append(intent[\"tag\"])\n",
        "\n",
        "\n",
        "# Lematizacija i pretvaranje svih riječi iz rječnika u mala slova\n",
        "# ako ne pripadaju punktuacijskim riječima\n",
        "words = [lemmatizer.lemmatize(word.lower()) for word in words if word not in string.punctuation]\n",
        "\n",
        "# Sortiranje rječnika i klasa i pretvaranje u skup radi eliminacije\n",
        "# duplikata\n",
        "words = sorted(set(words))\n",
        "classes = sorted(set(classes))"
      ],
      "metadata": {
        "id": "l5nLHrs1Vrhs"
      },
      "execution_count": 3,
      "outputs": []
    },
    {
      "cell_type": "markdown",
      "source": [
        "Ispis rezultata pretprocesiranja"
      ],
      "metadata": {
        "id": "gadAglEnWSVk"
      }
    },
    {
      "cell_type": "code",
      "source": [
        "print(words)\n",
        "print('------------------------------------------------------------------------------------')\n",
        "print(classes)\n",
        "print('------------------------------------------------------------------------------------')\n",
        "print(doc_X)\n",
        "print('------------------------------------------------------------------------------------')\n",
        "print(doc_y)\n",
        "print('------------------------------------------------------------------------------------')"
      ],
      "metadata": {
        "colab": {
          "base_uri": "https://localhost:8080/"
        },
        "id": "8LbQq9wHWR8K",
        "outputId": "60539179-e568-4c1e-d43f-98d56d5f78c9"
      },
      "execution_count": 4,
      "outputs": [
        {
          "output_type": "stream",
          "name": "stdout",
          "text": [
            "[\"'s\", 'adios', 'are', 'birthday', 'born', 'bye', 'called', 'cya', 'do', 'doing', 'for', 'g2g', 'going', 'hang', 'hello', 'hi', 'how', 'is', 'it', 'name', 'old', 'out', 'plan', 'see', 'some', 'there', 'this', 'time', 'to', 'up', 'want', 'week', 'weekend', 'were', 'what', 'whats', 'when', 'who', 'ya', 'you', 'your']\n",
            "------------------------------------------------------------------------------------\n",
            "['age', 'date', 'goodbye', 'greeting', 'name']\n",
            "------------------------------------------------------------------------------------\n",
            "['Hello', 'How are you?', 'Hi there', 'Hi', 'Whats up', \"How's it going?\", 'How old are you?', 'When is your birthday?', 'When were you born?', 'what are you doing this weekend?', 'do you want to hang out some time?', 'what are your plans for this week', \"what's your name?\", 'what are you called?', 'who are you?', 'bye', 'g2g', 'see ya', 'adios', 'cya']\n",
            "------------------------------------------------------------------------------------\n",
            "['greeting', 'greeting', 'greeting', 'greeting', 'greeting', 'greeting', 'age', 'age', 'age', 'date', 'date', 'date', 'name', 'name', 'name', 'goodbye', 'goodbye', 'goodbye', 'goodbye', 'goodbye']\n",
            "------------------------------------------------------------------------------------\n"
          ]
        }
      ]
    },
    {
      "cell_type": "markdown",
      "source": [
        "Priprema trening podataka"
      ],
      "metadata": {
        "id": "E_z4WrHMWp5I"
      }
    },
    {
      "cell_type": "code",
      "source": [
        "# Lista podataka za treniranje\n",
        "training = []\n",
        "out_empty = [0] * len(classes)\n",
        "\n",
        "# Kreiranje BoW modela\n",
        "for idx, doc in enumerate(doc_X):\n",
        "    bow = []\n",
        "    text = lemmatizer.lemmatize(doc.lower())\n",
        "    for word in words:\n",
        "        bow.append(1) if word in text else bow.append(0)    \n",
        "    \n",
        "    # Oznacavanje indeksa klase kojoj pripada trenutni obrazac\n",
        "    output_row = list(out_empty)\n",
        "    output_row[classes.index(doc_y[idx])] = 1    \n",
        "    \n",
        "    # Dodavanje hot encoded BoW i pratecih klasa u trening podatke\n",
        "    training.append([bow, output_row])\n",
        "    \n",
        "# Shuffle podataka i pretvaranjenu niz\n",
        "random.shuffle(training)\n",
        "training = np.array(training, dtype=object)\n",
        "\n",
        "\n",
        "# Splitanje karakteristika i ciljanih labela\n",
        "train_X = np.array(list(training[:, 0]))\n",
        "train_y = np.array(list(training[:, 1]))"
      ],
      "metadata": {
        "id": "DscoAtL_Wprx"
      },
      "execution_count": 5,
      "outputs": []
    },
    {
      "cell_type": "markdown",
      "source": [
        "Model"
      ],
      "metadata": {
        "id": "A8NV5Vf5WuGq"
      }
    },
    {
      "cell_type": "code",
      "source": [
        "# Definisanje parametara modela\n",
        "input_shape = (len(train_X[0]),)\n",
        "output_shape = len(train_y[0])\n",
        "epochs = 200\n",
        "\n",
        "# MLP model\n",
        "model = Sequential()\n",
        "model.add(Dense(128, input_shape=input_shape, activation=\"relu\"))\n",
        "model.add(Dropout(0.5))\n",
        "model.add(Dense(64, activation=\"relu\"))\n",
        "model.add(Dropout(0.3))\n",
        "model.add(Dense(output_shape, activation = \"softmax\"))\n",
        "adam = tf.keras.optimizers.Adam(learning_rate=0.01, decay=1e-6)\n",
        "model.compile(loss='categorical_crossentropy',\n",
        "              optimizer=adam,\n",
        "              metrics=[\"accuracy\"])\n",
        "print(model.summary())\n",
        "history = model.fit(x=train_X, y=train_y, epochs=200, verbose=1)"
      ],
      "metadata": {
        "colab": {
          "base_uri": "https://localhost:8080/"
        },
        "id": "C54mwSf9WwSI",
        "outputId": "cec89ee6-71f9-43bc-fe39-8e70d036da8b"
      },
      "execution_count": 6,
      "outputs": [
        {
          "output_type": "stream",
          "name": "stdout",
          "text": [
            "Model: \"sequential\"\n",
            "_________________________________________________________________\n",
            " Layer (type)                Output Shape              Param #   \n",
            "=================================================================\n",
            " dense (Dense)               (None, 128)               5376      \n",
            "                                                                 \n",
            " dropout (Dropout)           (None, 128)               0         \n",
            "                                                                 \n",
            " dense_1 (Dense)             (None, 64)                8256      \n",
            "                                                                 \n",
            " dropout_1 (Dropout)         (None, 64)                0         \n",
            "                                                                 \n",
            " dense_2 (Dense)             (None, 5)                 325       \n",
            "                                                                 \n",
            "=================================================================\n",
            "Total params: 13,957\n",
            "Trainable params: 13,957\n",
            "Non-trainable params: 0\n",
            "_________________________________________________________________\n",
            "None\n",
            "Epoch 1/200\n",
            "1/1 [==============================] - 1s 618ms/step - loss: 1.6112 - accuracy: 0.1500\n",
            "Epoch 2/200\n",
            "1/1 [==============================] - 0s 14ms/step - loss: 1.5546 - accuracy: 0.2500\n",
            "Epoch 3/200\n",
            "1/1 [==============================] - 0s 7ms/step - loss: 1.4263 - accuracy: 0.3500\n",
            "Epoch 4/200\n",
            "1/1 [==============================] - 0s 5ms/step - loss: 1.3177 - accuracy: 0.6000\n",
            "Epoch 5/200\n",
            "1/1 [==============================] - 0s 5ms/step - loss: 1.2494 - accuracy: 0.5500\n",
            "Epoch 6/200\n",
            "1/1 [==============================] - 0s 6ms/step - loss: 1.1246 - accuracy: 0.6000\n",
            "Epoch 7/200\n",
            "1/1 [==============================] - 0s 5ms/step - loss: 0.9688 - accuracy: 0.8500\n",
            "Epoch 8/200\n",
            "1/1 [==============================] - 0s 5ms/step - loss: 0.8571 - accuracy: 0.8000\n",
            "Epoch 9/200\n",
            "1/1 [==============================] - 0s 6ms/step - loss: 0.7793 - accuracy: 0.7500\n",
            "Epoch 10/200\n",
            "1/1 [==============================] - 0s 5ms/step - loss: 0.6173 - accuracy: 0.9000\n",
            "Epoch 11/200\n",
            "1/1 [==============================] - 0s 5ms/step - loss: 0.5769 - accuracy: 0.8500\n",
            "Epoch 12/200\n",
            "1/1 [==============================] - 0s 5ms/step - loss: 0.3734 - accuracy: 1.0000\n",
            "Epoch 13/200\n",
            "1/1 [==============================] - 0s 5ms/step - loss: 0.3009 - accuracy: 0.9500\n",
            "Epoch 14/200\n",
            "1/1 [==============================] - 0s 5ms/step - loss: 0.3116 - accuracy: 0.9500\n",
            "Epoch 15/200\n",
            "1/1 [==============================] - 0s 5ms/step - loss: 0.2673 - accuracy: 0.9500\n",
            "Epoch 16/200\n",
            "1/1 [==============================] - 0s 5ms/step - loss: 0.1623 - accuracy: 1.0000\n",
            "Epoch 17/200\n",
            "1/1 [==============================] - 0s 6ms/step - loss: 0.2541 - accuracy: 0.9500\n",
            "Epoch 18/200\n",
            "1/1 [==============================] - 0s 6ms/step - loss: 0.1641 - accuracy: 0.9000\n",
            "Epoch 19/200\n",
            "1/1 [==============================] - 0s 11ms/step - loss: 0.1871 - accuracy: 0.9500\n",
            "Epoch 20/200\n",
            "1/1 [==============================] - 0s 5ms/step - loss: 0.1104 - accuracy: 1.0000\n",
            "Epoch 21/200\n",
            "1/1 [==============================] - 0s 7ms/step - loss: 0.0782 - accuracy: 1.0000\n",
            "Epoch 22/200\n",
            "1/1 [==============================] - 0s 5ms/step - loss: 0.2388 - accuracy: 0.9000\n",
            "Epoch 23/200\n",
            "1/1 [==============================] - 0s 4ms/step - loss: 0.0256 - accuracy: 1.0000\n",
            "Epoch 24/200\n",
            "1/1 [==============================] - 0s 6ms/step - loss: 0.0603 - accuracy: 1.0000\n",
            "Epoch 25/200\n",
            "1/1 [==============================] - 0s 5ms/step - loss: 0.0960 - accuracy: 0.9500\n",
            "Epoch 26/200\n",
            "1/1 [==============================] - 0s 7ms/step - loss: 0.1632 - accuracy: 0.9500\n",
            "Epoch 27/200\n",
            "1/1 [==============================] - 0s 24ms/step - loss: 0.0930 - accuracy: 0.9500\n",
            "Epoch 28/200\n",
            "1/1 [==============================] - 0s 9ms/step - loss: 0.0512 - accuracy: 0.9500\n",
            "Epoch 29/200\n",
            "1/1 [==============================] - 0s 24ms/step - loss: 0.1729 - accuracy: 0.9500\n",
            "Epoch 30/200\n",
            "1/1 [==============================] - 0s 7ms/step - loss: 0.0319 - accuracy: 1.0000\n",
            "Epoch 31/200\n",
            "1/1 [==============================] - 0s 16ms/step - loss: 0.0194 - accuracy: 1.0000\n",
            "Epoch 32/200\n",
            "1/1 [==============================] - 0s 15ms/step - loss: 0.1399 - accuracy: 0.9500\n",
            "Epoch 33/200\n",
            "1/1 [==============================] - 0s 11ms/step - loss: 0.0644 - accuracy: 1.0000\n",
            "Epoch 34/200\n",
            "1/1 [==============================] - 0s 5ms/step - loss: 0.0126 - accuracy: 1.0000\n",
            "Epoch 35/200\n",
            "1/1 [==============================] - 0s 5ms/step - loss: 0.0135 - accuracy: 1.0000\n",
            "Epoch 36/200\n",
            "1/1 [==============================] - 0s 5ms/step - loss: 9.2348e-04 - accuracy: 1.0000\n",
            "Epoch 37/200\n",
            "1/1 [==============================] - 0s 5ms/step - loss: 0.0193 - accuracy: 1.0000\n",
            "Epoch 38/200\n",
            "1/1 [==============================] - 0s 5ms/step - loss: 0.0105 - accuracy: 1.0000\n",
            "Epoch 39/200\n",
            "1/1 [==============================] - 0s 10ms/step - loss: 0.0182 - accuracy: 1.0000\n",
            "Epoch 40/200\n",
            "1/1 [==============================] - 0s 4ms/step - loss: 0.0100 - accuracy: 1.0000\n",
            "Epoch 41/200\n",
            "1/1 [==============================] - 0s 4ms/step - loss: 0.0114 - accuracy: 1.0000\n",
            "Epoch 42/200\n",
            "1/1 [==============================] - 0s 5ms/step - loss: 0.2053 - accuracy: 0.9500\n",
            "Epoch 43/200\n",
            "1/1 [==============================] - 0s 5ms/step - loss: 0.0027 - accuracy: 1.0000\n",
            "Epoch 44/200\n",
            "1/1 [==============================] - 0s 5ms/step - loss: 0.0414 - accuracy: 1.0000\n",
            "Epoch 45/200\n",
            "1/1 [==============================] - 0s 4ms/step - loss: 0.0501 - accuracy: 0.9500\n",
            "Epoch 46/200\n",
            "1/1 [==============================] - 0s 5ms/step - loss: 0.0023 - accuracy: 1.0000\n",
            "Epoch 47/200\n",
            "1/1 [==============================] - 0s 5ms/step - loss: 6.3240e-04 - accuracy: 1.0000\n",
            "Epoch 48/200\n",
            "1/1 [==============================] - 0s 5ms/step - loss: 0.0012 - accuracy: 1.0000\n",
            "Epoch 49/200\n",
            "1/1 [==============================] - 0s 5ms/step - loss: 5.7915e-04 - accuracy: 1.0000\n",
            "Epoch 50/200\n",
            "1/1 [==============================] - 0s 5ms/step - loss: 0.0268 - accuracy: 1.0000\n",
            "Epoch 51/200\n",
            "1/1 [==============================] - 0s 5ms/step - loss: 0.0088 - accuracy: 1.0000\n",
            "Epoch 52/200\n",
            "1/1 [==============================] - 0s 4ms/step - loss: 0.0019 - accuracy: 1.0000\n",
            "Epoch 53/200\n",
            "1/1 [==============================] - 0s 5ms/step - loss: 9.8807e-04 - accuracy: 1.0000\n",
            "Epoch 54/200\n",
            "1/1 [==============================] - 0s 5ms/step - loss: 0.0057 - accuracy: 1.0000\n",
            "Epoch 55/200\n",
            "1/1 [==============================] - 0s 5ms/step - loss: 0.0070 - accuracy: 1.0000\n",
            "Epoch 56/200\n",
            "1/1 [==============================] - 0s 40ms/step - loss: 0.0034 - accuracy: 1.0000\n",
            "Epoch 57/200\n",
            "1/1 [==============================] - 0s 8ms/step - loss: 0.0055 - accuracy: 1.0000\n",
            "Epoch 58/200\n",
            "1/1 [==============================] - 0s 8ms/step - loss: 0.0028 - accuracy: 1.0000\n",
            "Epoch 59/200\n",
            "1/1 [==============================] - 0s 17ms/step - loss: 0.0011 - accuracy: 1.0000\n",
            "Epoch 60/200\n",
            "1/1 [==============================] - 0s 17ms/step - loss: 0.0082 - accuracy: 1.0000\n",
            "Epoch 61/200\n",
            "1/1 [==============================] - 0s 10ms/step - loss: 0.0071 - accuracy: 1.0000\n",
            "Epoch 62/200\n",
            "1/1 [==============================] - 0s 6ms/step - loss: 0.0021 - accuracy: 1.0000\n",
            "Epoch 63/200\n",
            "1/1 [==============================] - 0s 6ms/step - loss: 0.0054 - accuracy: 1.0000\n",
            "Epoch 64/200\n",
            "1/1 [==============================] - 0s 5ms/step - loss: 0.0089 - accuracy: 1.0000\n",
            "Epoch 65/200\n",
            "1/1 [==============================] - 0s 4ms/step - loss: 9.5951e-04 - accuracy: 1.0000\n",
            "Epoch 66/200\n",
            "1/1 [==============================] - 0s 5ms/step - loss: 0.0012 - accuracy: 1.0000\n",
            "Epoch 67/200\n",
            "1/1 [==============================] - 0s 6ms/step - loss: 0.0012 - accuracy: 1.0000\n",
            "Epoch 68/200\n",
            "1/1 [==============================] - 0s 11ms/step - loss: 0.0049 - accuracy: 1.0000\n",
            "Epoch 69/200\n",
            "1/1 [==============================] - 0s 6ms/step - loss: 5.4802e-04 - accuracy: 1.0000\n",
            "Epoch 70/200\n",
            "1/1 [==============================] - 0s 5ms/step - loss: 0.0056 - accuracy: 1.0000\n",
            "Epoch 71/200\n",
            "1/1 [==============================] - 0s 5ms/step - loss: 6.5760e-04 - accuracy: 1.0000\n",
            "Epoch 72/200\n",
            "1/1 [==============================] - 0s 10ms/step - loss: 0.0058 - accuracy: 1.0000\n",
            "Epoch 73/200\n",
            "1/1 [==============================] - 0s 6ms/step - loss: 9.5416e-04 - accuracy: 1.0000\n",
            "Epoch 74/200\n",
            "1/1 [==============================] - 0s 5ms/step - loss: 9.9002e-04 - accuracy: 1.0000\n",
            "Epoch 75/200\n",
            "1/1 [==============================] - 0s 5ms/step - loss: 0.0025 - accuracy: 1.0000\n",
            "Epoch 76/200\n",
            "1/1 [==============================] - 0s 5ms/step - loss: 0.0019 - accuracy: 1.0000\n",
            "Epoch 77/200\n",
            "1/1 [==============================] - 0s 5ms/step - loss: 0.0036 - accuracy: 1.0000\n",
            "Epoch 78/200\n",
            "1/1 [==============================] - 0s 5ms/step - loss: 7.5021e-04 - accuracy: 1.0000\n",
            "Epoch 79/200\n",
            "1/1 [==============================] - 0s 5ms/step - loss: 8.6258e-04 - accuracy: 1.0000\n",
            "Epoch 80/200\n",
            "1/1 [==============================] - 0s 5ms/step - loss: 4.5376e-04 - accuracy: 1.0000\n",
            "Epoch 81/200\n",
            "1/1 [==============================] - 0s 6ms/step - loss: 2.8118e-04 - accuracy: 1.0000\n",
            "Epoch 82/200\n",
            "1/1 [==============================] - 0s 5ms/step - loss: 0.0021 - accuracy: 1.0000\n",
            "Epoch 83/200\n",
            "1/1 [==============================] - 0s 11ms/step - loss: 0.0018 - accuracy: 1.0000\n",
            "Epoch 84/200\n",
            "1/1 [==============================] - 0s 5ms/step - loss: 4.1034e-05 - accuracy: 1.0000\n",
            "Epoch 85/200\n",
            "1/1 [==============================] - 0s 4ms/step - loss: 3.6053e-04 - accuracy: 1.0000\n",
            "Epoch 86/200\n",
            "1/1 [==============================] - 0s 4ms/step - loss: 0.0011 - accuracy: 1.0000\n",
            "Epoch 87/200\n",
            "1/1 [==============================] - 0s 4ms/step - loss: 7.8124e-04 - accuracy: 1.0000\n",
            "Epoch 88/200\n",
            "1/1 [==============================] - 0s 4ms/step - loss: 1.9034e-04 - accuracy: 1.0000\n",
            "Epoch 89/200\n",
            "1/1 [==============================] - 0s 4ms/step - loss: 0.0522 - accuracy: 0.9500\n",
            "Epoch 90/200\n",
            "1/1 [==============================] - 0s 16ms/step - loss: 9.0578e-05 - accuracy: 1.0000\n",
            "Epoch 91/200\n",
            "1/1 [==============================] - 0s 20ms/step - loss: 2.1311e-04 - accuracy: 1.0000\n",
            "Epoch 92/200\n",
            "1/1 [==============================] - 0s 7ms/step - loss: 0.0020 - accuracy: 1.0000\n",
            "Epoch 93/200\n",
            "1/1 [==============================] - 0s 11ms/step - loss: 7.6493e-04 - accuracy: 1.0000\n",
            "Epoch 94/200\n",
            "1/1 [==============================] - 0s 19ms/step - loss: 0.0020 - accuracy: 1.0000\n",
            "Epoch 95/200\n",
            "1/1 [==============================] - 0s 8ms/step - loss: 5.0389e-04 - accuracy: 1.0000\n",
            "Epoch 96/200\n",
            "1/1 [==============================] - 0s 14ms/step - loss: 3.7289e-04 - accuracy: 1.0000\n",
            "Epoch 97/200\n",
            "1/1 [==============================] - 0s 9ms/step - loss: 8.4512e-05 - accuracy: 1.0000\n",
            "Epoch 98/200\n",
            "1/1 [==============================] - 0s 11ms/step - loss: 0.0161 - accuracy: 1.0000\n",
            "Epoch 99/200\n",
            "1/1 [==============================] - 0s 21ms/step - loss: 2.2280e-04 - accuracy: 1.0000\n",
            "Epoch 100/200\n",
            "1/1 [==============================] - 0s 16ms/step - loss: 6.1822e-04 - accuracy: 1.0000\n",
            "Epoch 101/200\n",
            "1/1 [==============================] - 0s 10ms/step - loss: 9.7265e-04 - accuracy: 1.0000\n",
            "Epoch 102/200\n",
            "1/1 [==============================] - 0s 10ms/step - loss: 0.0034 - accuracy: 1.0000\n",
            "Epoch 103/200\n",
            "1/1 [==============================] - 0s 7ms/step - loss: 0.0078 - accuracy: 1.0000\n",
            "Epoch 104/200\n",
            "1/1 [==============================] - 0s 13ms/step - loss: 0.1627 - accuracy: 0.9500\n",
            "Epoch 105/200\n",
            "1/1 [==============================] - 0s 9ms/step - loss: 0.0063 - accuracy: 1.0000\n",
            "Epoch 106/200\n",
            "1/1 [==============================] - 0s 8ms/step - loss: 0.0017 - accuracy: 1.0000\n",
            "Epoch 107/200\n",
            "1/1 [==============================] - 0s 10ms/step - loss: 1.4466e-04 - accuracy: 1.0000\n",
            "Epoch 108/200\n",
            "1/1 [==============================] - 0s 10ms/step - loss: 2.9269e-04 - accuracy: 1.0000\n",
            "Epoch 109/200\n",
            "1/1 [==============================] - 0s 5ms/step - loss: 2.7262e-04 - accuracy: 1.0000\n",
            "Epoch 110/200\n",
            "1/1 [==============================] - 0s 10ms/step - loss: 1.2880e-04 - accuracy: 1.0000\n",
            "Epoch 111/200\n",
            "1/1 [==============================] - 0s 17ms/step - loss: 2.7588e-04 - accuracy: 1.0000\n",
            "Epoch 112/200\n",
            "1/1 [==============================] - 0s 5ms/step - loss: 1.8004e-04 - accuracy: 1.0000\n",
            "Epoch 113/200\n",
            "1/1 [==============================] - 0s 7ms/step - loss: 0.0082 - accuracy: 1.0000\n",
            "Epoch 114/200\n",
            "1/1 [==============================] - 0s 5ms/step - loss: 0.0038 - accuracy: 1.0000\n",
            "Epoch 115/200\n",
            "1/1 [==============================] - 0s 9ms/step - loss: 5.2951e-04 - accuracy: 1.0000\n",
            "Epoch 116/200\n",
            "1/1 [==============================] - 0s 26ms/step - loss: 0.0026 - accuracy: 1.0000\n",
            "Epoch 117/200\n",
            "1/1 [==============================] - 0s 18ms/step - loss: 1.2571e-04 - accuracy: 1.0000\n",
            "Epoch 118/200\n",
            "1/1 [==============================] - 0s 9ms/step - loss: 0.0046 - accuracy: 1.0000\n",
            "Epoch 119/200\n",
            "1/1 [==============================] - 0s 5ms/step - loss: 0.0024 - accuracy: 1.0000\n",
            "Epoch 120/200\n",
            "1/1 [==============================] - 0s 18ms/step - loss: 0.0028 - accuracy: 1.0000\n",
            "Epoch 121/200\n",
            "1/1 [==============================] - 0s 9ms/step - loss: 8.4369e-04 - accuracy: 1.0000\n",
            "Epoch 122/200\n",
            "1/1 [==============================] - 0s 7ms/step - loss: 1.4718e-04 - accuracy: 1.0000\n",
            "Epoch 123/200\n",
            "1/1 [==============================] - 0s 6ms/step - loss: 0.0013 - accuracy: 1.0000\n",
            "Epoch 124/200\n",
            "1/1 [==============================] - 0s 5ms/step - loss: 3.4446e-05 - accuracy: 1.0000\n",
            "Epoch 125/200\n",
            "1/1 [==============================] - 0s 5ms/step - loss: 3.3971e-04 - accuracy: 1.0000\n",
            "Epoch 126/200\n",
            "1/1 [==============================] - 0s 5ms/step - loss: 0.0010 - accuracy: 1.0000\n",
            "Epoch 127/200\n",
            "1/1 [==============================] - 0s 4ms/step - loss: 3.0665e-04 - accuracy: 1.0000\n",
            "Epoch 128/200\n",
            "1/1 [==============================] - 0s 5ms/step - loss: 0.0017 - accuracy: 1.0000\n",
            "Epoch 129/200\n",
            "1/1 [==============================] - 0s 5ms/step - loss: 0.0024 - accuracy: 1.0000\n",
            "Epoch 130/200\n",
            "1/1 [==============================] - 0s 6ms/step - loss: 1.7116e-04 - accuracy: 1.0000\n",
            "Epoch 131/200\n",
            "1/1 [==============================] - 0s 7ms/step - loss: 6.1437e-04 - accuracy: 1.0000\n",
            "Epoch 132/200\n",
            "1/1 [==============================] - 0s 5ms/step - loss: 0.0087 - accuracy: 1.0000\n",
            "Epoch 133/200\n",
            "1/1 [==============================] - 0s 5ms/step - loss: 1.4731e-04 - accuracy: 1.0000\n",
            "Epoch 134/200\n",
            "1/1 [==============================] - 0s 6ms/step - loss: 1.9074e-04 - accuracy: 1.0000\n",
            "Epoch 135/200\n",
            "1/1 [==============================] - 0s 6ms/step - loss: 0.0040 - accuracy: 1.0000\n",
            "Epoch 136/200\n",
            "1/1 [==============================] - 0s 5ms/step - loss: 0.0101 - accuracy: 1.0000\n",
            "Epoch 137/200\n",
            "1/1 [==============================] - 0s 6ms/step - loss: 1.3164e-04 - accuracy: 1.0000\n",
            "Epoch 138/200\n",
            "1/1 [==============================] - 0s 5ms/step - loss: 2.7699e-04 - accuracy: 1.0000\n",
            "Epoch 139/200\n",
            "1/1 [==============================] - 0s 5ms/step - loss: 5.2189e-04 - accuracy: 1.0000\n",
            "Epoch 140/200\n",
            "1/1 [==============================] - 0s 5ms/step - loss: 5.4935e-05 - accuracy: 1.0000\n",
            "Epoch 141/200\n",
            "1/1 [==============================] - 0s 7ms/step - loss: 0.0014 - accuracy: 1.0000\n",
            "Epoch 142/200\n",
            "1/1 [==============================] - 0s 6ms/step - loss: 4.4555e-04 - accuracy: 1.0000\n",
            "Epoch 143/200\n",
            "1/1 [==============================] - 0s 11ms/step - loss: 0.0029 - accuracy: 1.0000\n",
            "Epoch 144/200\n",
            "1/1 [==============================] - 0s 4ms/step - loss: 9.8714e-05 - accuracy: 1.0000\n",
            "Epoch 145/200\n",
            "1/1 [==============================] - 0s 4ms/step - loss: 0.0012 - accuracy: 1.0000\n",
            "Epoch 146/200\n",
            "1/1 [==============================] - 0s 5ms/step - loss: 3.3728e-04 - accuracy: 1.0000\n",
            "Epoch 147/200\n",
            "1/1 [==============================] - 0s 5ms/step - loss: 0.0015 - accuracy: 1.0000\n",
            "Epoch 148/200\n",
            "1/1 [==============================] - 0s 6ms/step - loss: 0.0013 - accuracy: 1.0000\n",
            "Epoch 149/200\n",
            "1/1 [==============================] - 0s 6ms/step - loss: 5.6121e-04 - accuracy: 1.0000\n",
            "Epoch 150/200\n",
            "1/1 [==============================] - 0s 5ms/step - loss: 0.0016 - accuracy: 1.0000\n",
            "Epoch 151/200\n",
            "1/1 [==============================] - 0s 17ms/step - loss: 3.9197e-05 - accuracy: 1.0000\n",
            "Epoch 152/200\n",
            "1/1 [==============================] - 0s 18ms/step - loss: 3.3740e-04 - accuracy: 1.0000\n",
            "Epoch 153/200\n",
            "1/1 [==============================] - 0s 16ms/step - loss: 2.3187e-04 - accuracy: 1.0000\n",
            "Epoch 154/200\n",
            "1/1 [==============================] - 0s 16ms/step - loss: 1.9373e-04 - accuracy: 1.0000\n",
            "Epoch 155/200\n",
            "1/1 [==============================] - 0s 11ms/step - loss: 6.3170e-04 - accuracy: 1.0000\n",
            "Epoch 156/200\n",
            "1/1 [==============================] - 0s 26ms/step - loss: 0.0013 - accuracy: 1.0000\n",
            "Epoch 157/200\n",
            "1/1 [==============================] - 0s 9ms/step - loss: 2.2743e-04 - accuracy: 1.0000\n",
            "Epoch 158/200\n",
            "1/1 [==============================] - 0s 10ms/step - loss: 3.1372e-05 - accuracy: 1.0000\n",
            "Epoch 159/200\n",
            "1/1 [==============================] - 0s 10ms/step - loss: 9.2011e-04 - accuracy: 1.0000\n",
            "Epoch 160/200\n",
            "1/1 [==============================] - 0s 14ms/step - loss: 1.4980e-04 - accuracy: 1.0000\n",
            "Epoch 161/200\n",
            "1/1 [==============================] - 0s 9ms/step - loss: 2.6840e-04 - accuracy: 1.0000\n",
            "Epoch 162/200\n",
            "1/1 [==============================] - 0s 15ms/step - loss: 2.1342e-04 - accuracy: 1.0000\n",
            "Epoch 163/200\n",
            "1/1 [==============================] - 0s 27ms/step - loss: 5.6093e-04 - accuracy: 1.0000\n",
            "Epoch 164/200\n",
            "1/1 [==============================] - 0s 8ms/step - loss: 7.0868e-05 - accuracy: 1.0000\n",
            "Epoch 165/200\n",
            "1/1 [==============================] - 0s 8ms/step - loss: 0.0010 - accuracy: 1.0000\n",
            "Epoch 166/200\n",
            "1/1 [==============================] - 0s 8ms/step - loss: 8.3497e-05 - accuracy: 1.0000\n",
            "Epoch 167/200\n",
            "1/1 [==============================] - 0s 10ms/step - loss: 2.5998e-05 - accuracy: 1.0000\n",
            "Epoch 168/200\n",
            "1/1 [==============================] - 0s 8ms/step - loss: 9.2111e-05 - accuracy: 1.0000\n",
            "Epoch 169/200\n",
            "1/1 [==============================] - 0s 9ms/step - loss: 5.0609e-04 - accuracy: 1.0000\n",
            "Epoch 170/200\n",
            "1/1 [==============================] - 0s 17ms/step - loss: 1.2942e-04 - accuracy: 1.0000\n",
            "Epoch 171/200\n",
            "1/1 [==============================] - 0s 9ms/step - loss: 4.0443e-05 - accuracy: 1.0000\n",
            "Epoch 172/200\n",
            "1/1 [==============================] - 0s 7ms/step - loss: 3.7770e-04 - accuracy: 1.0000\n",
            "Epoch 173/200\n",
            "1/1 [==============================] - 0s 10ms/step - loss: 6.2550e-05 - accuracy: 1.0000\n",
            "Epoch 174/200\n",
            "1/1 [==============================] - 0s 7ms/step - loss: 1.6747e-05 - accuracy: 1.0000\n",
            "Epoch 175/200\n",
            "1/1 [==============================] - 0s 8ms/step - loss: 5.0504e-04 - accuracy: 1.0000\n",
            "Epoch 176/200\n",
            "1/1 [==============================] - 0s 5ms/step - loss: 4.0601e-05 - accuracy: 1.0000\n",
            "Epoch 177/200\n",
            "1/1 [==============================] - 0s 5ms/step - loss: 0.0015 - accuracy: 1.0000\n",
            "Epoch 178/200\n",
            "1/1 [==============================] - 0s 6ms/step - loss: 1.2680e-04 - accuracy: 1.0000\n",
            "Epoch 179/200\n",
            "1/1 [==============================] - 0s 6ms/step - loss: 2.4219e-04 - accuracy: 1.0000\n",
            "Epoch 180/200\n",
            "1/1 [==============================] - 0s 5ms/step - loss: 2.1635e-05 - accuracy: 1.0000\n",
            "Epoch 181/200\n",
            "1/1 [==============================] - 0s 5ms/step - loss: 4.2823e-04 - accuracy: 1.0000\n",
            "Epoch 182/200\n",
            "1/1 [==============================] - 0s 5ms/step - loss: 0.0034 - accuracy: 1.0000\n",
            "Epoch 183/200\n",
            "1/1 [==============================] - 0s 15ms/step - loss: 1.7081e-05 - accuracy: 1.0000\n",
            "Epoch 184/200\n",
            "1/1 [==============================] - 0s 15ms/step - loss: 2.1449e-04 - accuracy: 1.0000\n",
            "Epoch 185/200\n",
            "1/1 [==============================] - 0s 8ms/step - loss: 0.0012 - accuracy: 1.0000\n",
            "Epoch 186/200\n",
            "1/1 [==============================] - 0s 6ms/step - loss: 0.0161 - accuracy: 1.0000\n",
            "Epoch 187/200\n",
            "1/1 [==============================] - 0s 5ms/step - loss: 7.4858e-04 - accuracy: 1.0000\n",
            "Epoch 188/200\n",
            "1/1 [==============================] - 0s 5ms/step - loss: 3.0350e-04 - accuracy: 1.0000\n",
            "Epoch 189/200\n",
            "1/1 [==============================] - 0s 5ms/step - loss: 4.8497e-05 - accuracy: 1.0000\n",
            "Epoch 190/200\n",
            "1/1 [==============================] - 0s 10ms/step - loss: 1.0243e-04 - accuracy: 1.0000\n",
            "Epoch 191/200\n",
            "1/1 [==============================] - 0s 8ms/step - loss: 0.0013 - accuracy: 1.0000\n",
            "Epoch 192/200\n",
            "1/1 [==============================] - 0s 13ms/step - loss: 6.6411e-05 - accuracy: 1.0000\n",
            "Epoch 193/200\n",
            "1/1 [==============================] - 0s 7ms/step - loss: 5.1001e-05 - accuracy: 1.0000\n",
            "Epoch 194/200\n",
            "1/1 [==============================] - 0s 12ms/step - loss: 1.5342e-05 - accuracy: 1.0000\n",
            "Epoch 195/200\n",
            "1/1 [==============================] - 0s 11ms/step - loss: 1.7003e-04 - accuracy: 1.0000\n",
            "Epoch 196/200\n",
            "1/1 [==============================] - 0s 10ms/step - loss: 0.0010 - accuracy: 1.0000\n",
            "Epoch 197/200\n",
            "1/1 [==============================] - 0s 11ms/step - loss: 3.7219e-04 - accuracy: 1.0000\n",
            "Epoch 198/200\n",
            "1/1 [==============================] - 0s 13ms/step - loss: 4.9449e-04 - accuracy: 1.0000\n",
            "Epoch 199/200\n",
            "1/1 [==============================] - 0s 11ms/step - loss: 9.6721e-05 - accuracy: 1.0000\n",
            "Epoch 200/200\n",
            "1/1 [==============================] - 0s 13ms/step - loss: 1.0263e-04 - accuracy: 1.0000\n"
          ]
        }
      ]
    },
    {
      "cell_type": "code",
      "source": [
        "from matplotlib import pyplot as plt\n",
        "\n",
        "plt.plot(history.history['accuracy'])\n",
        "plt.plot(history.history['loss'])\n",
        "plt.title('Model accuracy')\n",
        "plt.ylabel('accuracy')\n",
        "plt.xlabel('epoch')\n",
        "plt.legend(['accuracy', 'loss'], loc='upper right')\n",
        "plt.show()"
      ],
      "metadata": {
        "colab": {
          "base_uri": "https://localhost:8080/",
          "height": 295
        },
        "id": "_p0B5qwdXLv1",
        "outputId": "64bf8732-219c-4eaf-b4d1-249f074c0fed"
      },
      "execution_count": 7,
      "outputs": [
        {
          "output_type": "display_data",
          "data": {
            "text/plain": [
              "<Figure size 432x288 with 1 Axes>"
            ],
            "image/png": "[encoded data removed]"
          },
          "metadata": {
            "needs_background": "light"
          }
        }
      ]
    },
    {
      "cell_type": "markdown",
      "source": [
        "Nakon formiranja modela za chatbot, prelazimo na kreiranje pomoćnih funkcija za osnovnu implementaciju chatbota:"
      ],
      "metadata": {
        "id": "p8yyrCn2X-3p"
      }
    },
    {
      "cell_type": "code",
      "source": [
        "def clean_text(text): \n",
        "  tokens = nltk.word_tokenize(text)\n",
        "  tokens = [lemmatizer.lemmatize(word) for word in tokens]\n",
        "  return tokens\n",
        "\n",
        "def bag_of_words(text, vocab): \n",
        "  tokens = clean_text(text)\n",
        "  bow = [0] * len(vocab)\n",
        "  for w in tokens: \n",
        "    for idx, word in enumerate(vocab):\n",
        "      if word == w: \n",
        "        bow[idx] = 1\n",
        "  return np.array(bow)\n",
        "\n",
        "def pred_class(text, vocab, labels): \n",
        "  bow = bag_of_words(text, vocab)\n",
        "  result = model.predict(np.array([bow]))[0]\n",
        "  thresh = 0.2\n",
        "  y_pred = [[idx, res] for idx, res in enumerate(result) if res > thresh]\n",
        "\n",
        "  y_pred.sort(key=lambda x: x[1], reverse=True)\n",
        "  return_list = []\n",
        "  for r in y_pred:\n",
        "    return_list.append(labels[r[0]])\n",
        "  return return_list\n",
        "\n",
        "def get_response(intents_list, intents_json): \n",
        "  tag = intents_list[0]\n",
        "  list_of_intents = intents_json[\"intents\"]\n",
        "  for i in list_of_intents: \n",
        "    if i[\"tag\"] == tag:\n",
        "      result = random.choice(i[\"responses\"])\n",
        "      break\n",
        "  return result"
      ],
      "metadata": {
        "id": "7sf3G7xgYKI-"
      },
      "execution_count": 8,
      "outputs": []
    },
    {
      "cell_type": "markdown",
      "source": [
        "Za pokretanje chatbota, koristit ćemo beskonačnu petlju:"
      ],
      "metadata": {
        "id": "YSZOdzYyYOoH"
      }
    },
    {
      "cell_type": "code",
      "source": [
        "# running the chatbot\n",
        "while True:\n",
        "    print(\"YOU: \")\n",
        "    message = input(\"\")\n",
        "    if message == \"end\": \n",
        "      break\n",
        "    intents = pred_class(message, words, classes)\n",
        "    result = get_response(intents, data)\n",
        "    print(\"LAKI: \")\n",
        "    print(result)"
      ],
      "metadata": {
        "colab": {
          "base_uri": "https://localhost:8080/"
        },
        "id": "ONlaRpPgYTQq",
        "outputId": "45834746-0927-42b3-cec0-a4eaaf56be6d"
      },
      "execution_count": 12,
      "outputs": [
        {
          "name": "stdout",
          "output_type": "stream",
          "text": [
            "YOU: \n",
            "hello\n",
            "LAKI: \n",
            "Hi!\n",
            "YOU: \n",
            "how are you\n",
            "LAKI: \n",
            "How do you do?\n",
            "YOU: \n",
            "what is your age\n",
            "LAKI: \n",
            "I am available all week\n",
            "YOU: \n",
            "how old r u\n",
            "LAKI: \n",
            "24.6.1998.\n",
            "YOU: \n",
            "plans for the weekend?\n",
            "LAKI: \n",
            "I don't have any plans\n",
            "YOU: \n",
            "ok, bye laki\n",
            "LAKI: \n",
            "Speak soon!\n",
            "YOU: \n",
            "end\n"
          ]
        }
      ]
    }
  ]
}