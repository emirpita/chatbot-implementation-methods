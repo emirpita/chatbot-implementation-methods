{
  "nbformat": 4,
  "nbformat_minor": 0,
  "metadata": {
    "colab": {
      "name": "seq2sqe.ipynb",
      "provenance": [],
      "collapsed_sections": []
    },
    "kernelspec": {
      "name": "python3",
      "display_name": "Python 3"
    },
    "language_info": {
      "name": "python"
    }
  },
  "cells": [
    {
      "cell_type": "code",
      "source": [
        "import numpy as np \n",
        "import tensorflow as tf\n",
        "import pickle\n",
        "from tensorflow.keras import layers, activations, models, preprocessing"
      ],
      "metadata": {
        "id": "f_pjyTmKXs7i"
      },
      "execution_count": null,
      "outputs": []
    },
    {
      "cell_type": "code",
      "source": [
        "!pip install kaggle "
      ],
      "metadata": {
        "colab": {
          "base_uri": "https://localhost:8080/"
        },
        "id": "Jb_KOYjHXxmv",
        "outputId": "d5d2fd32-06f1-4e3a-c67c-892d1e547f4c"
      },
      "execution_count": null,
      "outputs": [
        {
          "output_type": "stream",
          "name": "stdout",
          "text": [
            "Looking in indexes: https://pypi.org/simple, https://us-python.pkg.dev/colab-wheels/public/simple/\n",
            "Requirement already satisfied: kaggle in /usr/local/lib/python3.7/dist-packages (1.5.12)\n",
            "Requirement already satisfied: urllib3 in /usr/local/lib/python3.7/dist-packages (from kaggle) (1.24.3)\n",
            "Requirement already satisfied: certifi in /usr/local/lib/python3.7/dist-packages (from kaggle) (2022.5.18.1)\n",
            "Requirement already satisfied: python-slugify in /usr/local/lib/python3.7/dist-packages (from kaggle) (6.1.2)\n",
            "Requirement already satisfied: python-dateutil in /usr/local/lib/python3.7/dist-packages (from kaggle) (2.8.2)\n",
            "Requirement already satisfied: six>=1.10 in /usr/local/lib/python3.7/dist-packages (from kaggle) (1.15.0)\n",
            "Requirement already satisfied: requests in /usr/local/lib/python3.7/dist-packages (from kaggle) (2.23.0)\n",
            "Requirement already satisfied: tqdm in /usr/local/lib/python3.7/dist-packages (from kaggle) (4.64.0)\n",
            "Requirement already satisfied: text-unidecode>=1.3 in /usr/local/lib/python3.7/dist-packages (from python-slugify->kaggle) (1.3)\n",
            "Requirement already satisfied: chardet<4,>=3.0.2 in /usr/local/lib/python3.7/dist-packages (from requests->kaggle) (3.0.4)\n",
            "Requirement already satisfied: idna<3,>=2.5 in /usr/local/lib/python3.7/dist-packages (from requests->kaggle) (2.10)\n"
          ]
        }
      ]
    },
    {
      "cell_type": "code",
      "source": [
        "#download link https://www.kaggle.com/datasets/kausr25/chatterbotenglish\n",
        "!unzip /content/archive.zip -d /content/chatbot_nlp/data/"
      ],
      "metadata": {
        "colab": {
          "base_uri": "https://localhost:8080/"
        },
        "id": "5tl2yHgJX1Ys",
        "outputId": "24045ecb-b5b3-4b4c-e4eb-68ccab4df72b"
      },
      "execution_count": null,
      "outputs": [
        {
          "output_type": "stream",
          "name": "stdout",
          "text": [
            "Archive:  /content/archive.zip\n",
            "  inflating: /content/chatbot_nlp/data/ai.yml  \n",
            "  inflating: /content/chatbot_nlp/data/botprofile.yml  \n",
            "  inflating: /content/chatbot_nlp/data/computers.yml  \n",
            "  inflating: /content/chatbot_nlp/data/emotion.yml  \n",
            "  inflating: /content/chatbot_nlp/data/food.yml  \n",
            "  inflating: /content/chatbot_nlp/data/gossip.yml  \n",
            "  inflating: /content/chatbot_nlp/data/greetings.yml  \n",
            "  inflating: /content/chatbot_nlp/data/health.yml  \n",
            "  inflating: /content/chatbot_nlp/data/history.yml  \n",
            "  inflating: /content/chatbot_nlp/data/humor.yml  \n",
            "  inflating: /content/chatbot_nlp/data/literature.yml  \n",
            "  inflating: /content/chatbot_nlp/data/money.yml  \n",
            "  inflating: /content/chatbot_nlp/data/movies.yml  \n",
            "  inflating: /content/chatbot_nlp/data/politics.yml  \n",
            "  inflating: /content/chatbot_nlp/data/psychology.yml  \n",
            "  inflating: /content/chatbot_nlp/data/science.yml  \n",
            "  inflating: /content/chatbot_nlp/data/sports.yml  \n",
            "  inflating: /content/chatbot_nlp/data/trivia.yml  \n"
          ]
        }
      ]
    },
    {
      "cell_type": "code",
      "source": [
        "from tensorflow.keras import preprocessing, utils\n",
        "import os\n",
        "import yaml"
      ],
      "metadata": {
        "id": "hQKYggTiZhp2"
      },
      "execution_count": null,
      "outputs": []
    },
    {
      "cell_type": "code",
      "source": [
        "dir_path = '/content/chatbot_nlp/data'\n",
        "files_list = os.listdir(dir_path + os.sep)\n",
        "questions = list()\n",
        "answers = list()\n",
        "\n",
        "for filepath in files_list:\n",
        "    stream = open( dir_path + os.sep + filepath , 'rb')\n",
        "    docs = yaml.safe_load(stream)\n",
        "    conversations = docs['conversations']\n",
        "    for con in conversations:\n",
        "        if len( con ) > 2 :\n",
        "            questions.append(con[0])\n",
        "            replies = con[ 1 : ]\n",
        "            ans = ''\n",
        "            for rep in replies:\n",
        "                ans += ' ' + rep\n",
        "            answers.append( ans )\n",
        "        elif len( con )> 1:\n",
        "            questions.append(con[0])\n",
        "            answers.append(con[1])\n",
        "\n",
        "answers_with_tags = list()\n",
        "for i in range( len( answers ) ):\n",
        "    if type( answers[i] ) == str:\n",
        "        answers_with_tags.append( answers[i] )\n",
        "    else:\n",
        "        questions.pop( i )\n",
        "\n",
        "answers = list()\n",
        "for i in range( len( answers_with_tags ) ) :\n",
        "    answers.append( '<START> ' + answers_with_tags[i] + ' <END>' )\n",
        "\n",
        "tokenizer = preprocessing.text.Tokenizer()\n",
        "tokenizer.fit_on_texts( questions + answers )\n",
        "VOCAB_SIZE = len( tokenizer.word_index )+1\n",
        "print( 'VOCAB SIZE : {}'.format( VOCAB_SIZE ))"
      ],
      "metadata": {
        "colab": {
          "base_uri": "https://localhost:8080/"
        },
        "id": "GHqPKXSoZmZr",
        "outputId": "185e7253-d6d5-441e-94d5-bc8c72ced288"
      },
      "execution_count": null,
      "outputs": [
        {
          "output_type": "stream",
          "name": "stdout",
          "text": [
            "VOCAB SIZE : 1894\n"
          ]
        }
      ]
    },
    {
      "cell_type": "code",
      "source": [
        "from gensim.models import Word2Vec\n",
        "import re"
      ],
      "metadata": {
        "id": "jL39nLYSZp7O"
      },
      "execution_count": null,
      "outputs": []
    },
    {
      "cell_type": "code",
      "source": [
        "vocab = []\n",
        "for word in tokenizer.word_index:\n",
        "  vocab.append(word)\n",
        "\n",
        "def tokenize(sentences):\n",
        "  tokens_list = []\n",
        "  vocabulary = []\n",
        "  for sentence in sentences:\n",
        "    sentence = sentence.lower()\n",
        "    sentence = re.sub('[^a-zA-Z]', ' ', sentence)\n",
        "    tokens = sentence.split()\n",
        "    vocabulary += tokens\n",
        "    tokens_list.append(tokens)\n",
        "  return tokens_list, vocabulary"
      ],
      "metadata": {
        "id": "CoxV58_lZs0r"
      },
      "execution_count": null,
      "outputs": []
    },
    {
      "cell_type": "code",
      "source": [
        "#encoder_input_data\n",
        "tokenized_questions = tokenizer.texts_to_sequences( questions )\n",
        "maxlen_questions = max( [len(x) for x in tokenized_questions ] )\n",
        "padded_questions = preprocessing.sequence.pad_sequences( tokenized_questions, maxlen = maxlen_questions, padding = 'post')\n",
        "encoder_input_data = np.array(padded_questions)\n",
        "print(encoder_input_data.shape, maxlen_questions)"
      ],
      "metadata": {
        "colab": {
          "base_uri": "https://localhost:8080/"
        },
        "id": "H5NR8ApyZvmr",
        "outputId": "334c4a99-4096-49f4-d51e-9a3581e03a3b"
      },
      "execution_count": null,
      "outputs": [
        {
          "output_type": "stream",
          "name": "stdout",
          "text": [
            "(564, 22) 22\n"
          ]
        }
      ]
    },
    {
      "cell_type": "code",
      "source": [
        "# decoder_input_data\n",
        "tokenized_answers = tokenizer.texts_to_sequences( answers )\n",
        "maxlen_answers = max( [ len(x) for x in tokenized_answers ] )\n",
        "padded_answers = preprocessing.sequence.pad_sequences( tokenized_answers , maxlen=maxlen_answers , padding='post' )\n",
        "decoder_input_data = np.array( padded_answers )\n",
        "print( decoder_input_data.shape , maxlen_answers )"
      ],
      "metadata": {
        "colab": {
          "base_uri": "https://localhost:8080/"
        },
        "id": "axoF2iw1ZzbU",
        "outputId": "3cb1315e-1fa6-4cb3-ed9e-1963828d4070"
      },
      "execution_count": null,
      "outputs": [
        {
          "output_type": "stream",
          "name": "stdout",
          "text": [
            "(564, 74) 74\n"
          ]
        }
      ]
    },
    {
      "cell_type": "code",
      "source": [
        "# decoder_output_data\n",
        "tokenized_answers = tokenizer.texts_to_sequences( answers )\n",
        "for i in range(len(tokenized_answers)) :\n",
        "    tokenized_answers[i] = tokenized_answers[i][1:]\n",
        "padded_answers = preprocessing.sequence.pad_sequences( tokenized_answers , maxlen=maxlen_answers , padding='post' )\n",
        "onehot_answers = utils.to_categorical( padded_answers , VOCAB_SIZE )\n",
        "decoder_output_data = np.array( onehot_answers )\n",
        "print( decoder_output_data.shape )"
      ],
      "metadata": {
        "colab": {
          "base_uri": "https://localhost:8080/"
        },
        "id": "2TwAYdXzZ2E4",
        "outputId": "79404f7e-a15b-4a8c-9b10-8b6a0fc148f6"
      },
      "execution_count": null,
      "outputs": [
        {
          "output_type": "stream",
          "name": "stdout",
          "text": [
            "(564, 74, 1894)\n"
          ]
        }
      ]
    },
    {
      "cell_type": "code",
      "source": [
        "encoder_inputs = tf.keras.layers.Input(shape=( maxlen_questions , ))\n",
        "encoder_embedding = tf.keras.layers.Embedding( VOCAB_SIZE, 200 , mask_zero=True ) (encoder_inputs)\n",
        "encoder_outputs , state_h , state_c = tf.keras.layers.LSTM( 200 , return_state=True )( encoder_embedding )\n",
        "encoder_states = [ state_h , state_c ]\n",
        "\n",
        "decoder_inputs = tf.keras.layers.Input(shape=( maxlen_answers ,  ))\n",
        "decoder_embedding = tf.keras.layers.Embedding( VOCAB_SIZE, 200 , mask_zero=True) (decoder_inputs)\n",
        "decoder_lstm = tf.keras.layers.LSTM( 200 , return_state=True , return_sequences=True )\n",
        "decoder_outputs , _ , _ = decoder_lstm ( decoder_embedding , initial_state=encoder_states )\n",
        "decoder_dense = tf.keras.layers.Dense( VOCAB_SIZE , activation=tf.keras.activations.softmax ) \n",
        "output = decoder_dense ( decoder_outputs )\n",
        "\n",
        "model = tf.keras.models.Model([encoder_inputs, decoder_inputs], output )\n",
        "model.compile(optimizer=tf.keras.optimizers.RMSprop(), loss='categorical_crossentropy')\n",
        "\n",
        "model.summary()"
      ],
      "metadata": {
        "colab": {
          "base_uri": "https://localhost:8080/"
        },
        "id": "rE35Lu-qZ3lq",
        "outputId": "0823e879-9d98-4d93-fdd0-f6cd3a4d48ff"
      },
      "execution_count": null,
      "outputs": [
        {
          "output_type": "stream",
          "name": "stdout",
          "text": [
            "Model: \"model\"\n",
            "__________________________________________________________________________________________________\n",
            " Layer (type)                   Output Shape         Param #     Connected to                     \n",
            "==================================================================================================\n",
            " input_1 (InputLayer)           [(None, 22)]         0           []                               \n",
            "                                                                                                  \n",
            " input_2 (InputLayer)           [(None, 74)]         0           []                               \n",
            "                                                                                                  \n",
            " embedding (Embedding)          (None, 22, 200)      378800      ['input_1[0][0]']                \n",
            "                                                                                                  \n",
            " embedding_1 (Embedding)        (None, 74, 200)      378800      ['input_2[0][0]']                \n",
            "                                                                                                  \n",
            " lstm (LSTM)                    [(None, 200),        320800      ['embedding[0][0]']              \n",
            "                                 (None, 200),                                                     \n",
            "                                 (None, 200)]                                                     \n",
            "                                                                                                  \n",
            " lstm_1 (LSTM)                  [(None, 74, 200),    320800      ['embedding_1[0][0]',            \n",
            "                                 (None, 200),                     'lstm[0][1]',                   \n",
            "                                 (None, 200)]                     'lstm[0][2]']                   \n",
            "                                                                                                  \n",
            " dense (Dense)                  (None, 74, 1894)     380694      ['lstm_1[0][0]']                 \n",
            "                                                                                                  \n",
            "==================================================================================================\n",
            "Total params: 1,779,894\n",
            "Trainable params: 1,779,894\n",
            "Non-trainable params: 0\n",
            "__________________________________________________________________________________________________\n"
          ]
        }
      ]
    },
    {
      "cell_type": "code",
      "source": [
        "model.fit([encoder_input_data , decoder_input_data], decoder_output_data, batch_size=50, epochs=150 ) \n",
        "model.save( 'model.h5' )"
      ],
      "metadata": {
        "colab": {
          "base_uri": "https://localhost:8080/"
        },
        "id": "SXhU0YveZ81R",
        "outputId": "90c702d4-6a9d-4133-8706-679aeba966a2"
      },
      "execution_count": null,
      "outputs": [
        {
          "output_type": "stream",
          "name": "stdout",
          "text": [
            "Epoch 1/150\n",
            "12/12 [==============================] - 14s 545ms/step - loss: 1.2938\n",
            "Epoch 2/150\n",
            "12/12 [==============================] - 6s 536ms/step - loss: 1.1170\n",
            "Epoch 3/150\n",
            "12/12 [==============================] - 6s 531ms/step - loss: 1.0936\n",
            "Epoch 4/150\n",
            "12/12 [==============================] - 6s 525ms/step - loss: 1.0731\n",
            "Epoch 5/150\n",
            "12/12 [==============================] - 6s 530ms/step - loss: 1.0533\n",
            "Epoch 6/150\n",
            "12/12 [==============================] - 6s 532ms/step - loss: 1.0356\n",
            "Epoch 7/150\n",
            "12/12 [==============================] - 6s 531ms/step - loss: 1.0215\n",
            "Epoch 8/150\n",
            "12/12 [==============================] - 6s 530ms/step - loss: 1.0067\n",
            "Epoch 9/150\n",
            "12/12 [==============================] - 6s 525ms/step - loss: 0.9943\n",
            "Epoch 10/150\n",
            "12/12 [==============================] - 6s 529ms/step - loss: 0.9783\n",
            "Epoch 11/150\n",
            "12/12 [==============================] - 6s 527ms/step - loss: 0.9648\n",
            "Epoch 12/150\n",
            "12/12 [==============================] - 6s 526ms/step - loss: 0.9495\n",
            "Epoch 13/150\n",
            "12/12 [==============================] - 6s 529ms/step - loss: 0.9352\n",
            "Epoch 14/150\n",
            "12/12 [==============================] - 6s 530ms/step - loss: 0.9195\n",
            "Epoch 15/150\n",
            "12/12 [==============================] - 6s 529ms/step - loss: 0.9063\n",
            "Epoch 16/150\n",
            "12/12 [==============================] - 6s 528ms/step - loss: 0.8912\n",
            "Epoch 17/150\n",
            "12/12 [==============================] - 6s 525ms/step - loss: 0.8776\n",
            "Epoch 18/150\n",
            "12/12 [==============================] - 6s 527ms/step - loss: 0.8632\n",
            "Epoch 19/150\n",
            "12/12 [==============================] - 6s 525ms/step - loss: 0.8518\n",
            "Epoch 20/150\n",
            "12/12 [==============================] - 6s 527ms/step - loss: 0.8380\n",
            "Epoch 21/150\n",
            "12/12 [==============================] - 6s 531ms/step - loss: 0.8257\n",
            "Epoch 22/150\n",
            "12/12 [==============================] - 6s 534ms/step - loss: 0.8144\n",
            "Epoch 23/150\n",
            "12/12 [==============================] - 6s 530ms/step - loss: 0.8016\n",
            "Epoch 24/150\n",
            "12/12 [==============================] - 6s 527ms/step - loss: 0.7903\n",
            "Epoch 25/150\n",
            "12/12 [==============================] - 6s 530ms/step - loss: 0.7785\n",
            "Epoch 26/150\n",
            "12/12 [==============================] - 6s 530ms/step - loss: 0.7665\n",
            "Epoch 27/150\n",
            "12/12 [==============================] - 6s 524ms/step - loss: 0.7556\n",
            "Epoch 28/150\n",
            "12/12 [==============================] - 6s 528ms/step - loss: 0.7450\n",
            "Epoch 29/150\n",
            "12/12 [==============================] - 6s 526ms/step - loss: 0.7345\n",
            "Epoch 30/150\n",
            "12/12 [==============================] - 7s 611ms/step - loss: 0.7226\n",
            "Epoch 31/150\n",
            "12/12 [==============================] - 6s 533ms/step - loss: 0.7131\n",
            "Epoch 32/150\n",
            "12/12 [==============================] - 6s 528ms/step - loss: 0.7012\n",
            "Epoch 33/150\n",
            "12/12 [==============================] - 6s 531ms/step - loss: 0.6910\n",
            "Epoch 34/150\n",
            "12/12 [==============================] - 6s 527ms/step - loss: 0.6827\n",
            "Epoch 35/150\n",
            "12/12 [==============================] - 6s 526ms/step - loss: 0.6702\n",
            "Epoch 36/150\n",
            "12/12 [==============================] - 6s 529ms/step - loss: 0.6605\n",
            "Epoch 37/150\n",
            "12/12 [==============================] - 6s 537ms/step - loss: 0.6518\n",
            "Epoch 38/150\n",
            "12/12 [==============================] - 6s 526ms/step - loss: 0.6409\n",
            "Epoch 39/150\n",
            "12/12 [==============================] - 6s 528ms/step - loss: 0.6317\n",
            "Epoch 40/150\n",
            "12/12 [==============================] - 6s 533ms/step - loss: 0.6215\n",
            "Epoch 41/150\n",
            "12/12 [==============================] - 6s 529ms/step - loss: 0.6115\n",
            "Epoch 42/150\n",
            "12/12 [==============================] - 6s 528ms/step - loss: 0.6023\n",
            "Epoch 43/150\n",
            "12/12 [==============================] - 6s 529ms/step - loss: 0.5919\n",
            "Epoch 44/150\n",
            "12/12 [==============================] - 6s 526ms/step - loss: 0.5835\n",
            "Epoch 45/150\n",
            "12/12 [==============================] - 6s 530ms/step - loss: 0.5732\n",
            "Epoch 46/150\n",
            "12/12 [==============================] - 6s 525ms/step - loss: 0.5634\n",
            "Epoch 47/150\n",
            "12/12 [==============================] - 6s 529ms/step - loss: 0.5546\n",
            "Epoch 48/150\n",
            "12/12 [==============================] - 6s 526ms/step - loss: 0.5440\n",
            "Epoch 49/150\n",
            "12/12 [==============================] - 6s 524ms/step - loss: 0.5362\n",
            "Epoch 50/150\n",
            "12/12 [==============================] - 6s 530ms/step - loss: 0.5279\n",
            "Epoch 51/150\n",
            "12/12 [==============================] - 6s 525ms/step - loss: 0.5174\n",
            "Epoch 52/150\n",
            "12/12 [==============================] - 6s 527ms/step - loss: 0.5084\n",
            "Epoch 53/150\n",
            "12/12 [==============================] - 6s 528ms/step - loss: 0.4982\n",
            "Epoch 54/150\n",
            "12/12 [==============================] - 6s 531ms/step - loss: 0.4902\n",
            "Epoch 55/150\n",
            "12/12 [==============================] - 6s 533ms/step - loss: 0.4821\n",
            "Epoch 56/150\n",
            "12/12 [==============================] - 6s 528ms/step - loss: 0.4716\n",
            "Epoch 57/150\n",
            "12/12 [==============================] - 6s 531ms/step - loss: 0.4640\n",
            "Epoch 58/150\n",
            "12/12 [==============================] - 6s 531ms/step - loss: 0.4552\n",
            "Epoch 59/150\n",
            "12/12 [==============================] - 6s 531ms/step - loss: 0.4458\n",
            "Epoch 60/150\n",
            "12/12 [==============================] - 6s 527ms/step - loss: 0.4368\n",
            "Epoch 61/150\n",
            "12/12 [==============================] - 6s 525ms/step - loss: 0.4302\n",
            "Epoch 62/150\n",
            "12/12 [==============================] - 7s 604ms/step - loss: 0.4197\n",
            "Epoch 63/150\n",
            "12/12 [==============================] - 6s 530ms/step - loss: 0.4130\n",
            "Epoch 64/150\n",
            "12/12 [==============================] - 6s 526ms/step - loss: 0.4043\n",
            "Epoch 65/150\n",
            "12/12 [==============================] - 6s 530ms/step - loss: 0.3962\n",
            "Epoch 66/150\n",
            "12/12 [==============================] - 6s 529ms/step - loss: 0.3880\n",
            "Epoch 67/150\n",
            "12/12 [==============================] - 6s 535ms/step - loss: 0.3796\n",
            "Epoch 68/150\n",
            "12/12 [==============================] - 6s 529ms/step - loss: 0.3729\n",
            "Epoch 69/150\n",
            "12/12 [==============================] - 6s 525ms/step - loss: 0.3646\n",
            "Epoch 70/150\n",
            "12/12 [==============================] - 6s 528ms/step - loss: 0.3567\n",
            "Epoch 71/150\n",
            "12/12 [==============================] - 6s 529ms/step - loss: 0.3509\n",
            "Epoch 72/150\n",
            "12/12 [==============================] - 6s 527ms/step - loss: 0.3416\n",
            "Epoch 73/150\n",
            "12/12 [==============================] - 6s 526ms/step - loss: 0.3344\n",
            "Epoch 74/150\n",
            "12/12 [==============================] - 6s 525ms/step - loss: 0.3300\n",
            "Epoch 75/150\n",
            "12/12 [==============================] - 6s 528ms/step - loss: 0.3203\n",
            "Epoch 76/150\n",
            "12/12 [==============================] - 6s 527ms/step - loss: 0.3144\n",
            "Epoch 77/150\n",
            "12/12 [==============================] - 6s 528ms/step - loss: 0.3068\n",
            "Epoch 78/150\n",
            "12/12 [==============================] - 6s 530ms/step - loss: 0.3013\n",
            "Epoch 79/150\n",
            "12/12 [==============================] - 6s 525ms/step - loss: 0.2930\n",
            "Epoch 80/150\n",
            "12/12 [==============================] - 6s 528ms/step - loss: 0.2873\n",
            "Epoch 81/150\n",
            "12/12 [==============================] - 6s 528ms/step - loss: 0.2812\n",
            "Epoch 82/150\n",
            "12/12 [==============================] - 6s 529ms/step - loss: 0.2747\n",
            "Epoch 83/150\n",
            "12/12 [==============================] - 6s 529ms/step - loss: 0.2679\n",
            "Epoch 84/150\n",
            "12/12 [==============================] - 6s 531ms/step - loss: 0.2624\n",
            "Epoch 85/150\n",
            "12/12 [==============================] - 6s 528ms/step - loss: 0.2555\n",
            "Epoch 86/150\n",
            "12/12 [==============================] - 6s 531ms/step - loss: 0.2494\n",
            "Epoch 87/150\n",
            "12/12 [==============================] - 6s 530ms/step - loss: 0.2446\n",
            "Epoch 88/150\n",
            "12/12 [==============================] - 6s 527ms/step - loss: 0.2390\n",
            "Epoch 89/150\n",
            "12/12 [==============================] - 6s 536ms/step - loss: 0.2322\n",
            "Epoch 90/150\n",
            "12/12 [==============================] - 6s 525ms/step - loss: 0.2276\n",
            "Epoch 91/150\n",
            "12/12 [==============================] - 6s 530ms/step - loss: 0.2203\n",
            "Epoch 92/150\n",
            "12/12 [==============================] - 6s 534ms/step - loss: 0.2166\n",
            "Epoch 93/150\n",
            "12/12 [==============================] - 7s 611ms/step - loss: 0.2129\n",
            "Epoch 94/150\n",
            "12/12 [==============================] - 6s 534ms/step - loss: 0.2073\n",
            "Epoch 95/150\n",
            "12/12 [==============================] - 6s 526ms/step - loss: 0.2000\n",
            "Epoch 96/150\n",
            "12/12 [==============================] - 6s 529ms/step - loss: 0.1971\n",
            "Epoch 97/150\n",
            "12/12 [==============================] - 6s 528ms/step - loss: 0.1916\n",
            "Epoch 98/150\n",
            "12/12 [==============================] - 6s 524ms/step - loss: 0.1871\n",
            "Epoch 99/150\n",
            "12/12 [==============================] - 6s 532ms/step - loss: 0.1815\n",
            "Epoch 100/150\n",
            "12/12 [==============================] - 6s 529ms/step - loss: 0.1774\n",
            "Epoch 101/150\n",
            "12/12 [==============================] - 6s 524ms/step - loss: 0.1755\n",
            "Epoch 102/150\n",
            "12/12 [==============================] - 6s 526ms/step - loss: 0.1679\n",
            "Epoch 103/150\n",
            "12/12 [==============================] - 6s 528ms/step - loss: 0.1649\n",
            "Epoch 104/150\n",
            "12/12 [==============================] - 6s 527ms/step - loss: 0.1592\n",
            "Epoch 105/150\n",
            "12/12 [==============================] - 6s 532ms/step - loss: 0.1564\n",
            "Epoch 106/150\n",
            "12/12 [==============================] - 6s 531ms/step - loss: 0.1524\n",
            "Epoch 107/150\n",
            "12/12 [==============================] - 6s 531ms/step - loss: 0.1478\n",
            "Epoch 108/150\n",
            "12/12 [==============================] - 6s 532ms/step - loss: 0.1447\n",
            "Epoch 109/150\n",
            "12/12 [==============================] - 6s 526ms/step - loss: 0.1408\n",
            "Epoch 110/150\n",
            "12/12 [==============================] - 6s 530ms/step - loss: 0.1361\n",
            "Epoch 111/150\n",
            "12/12 [==============================] - 6s 525ms/step - loss: 0.1329\n",
            "Epoch 112/150\n",
            "12/12 [==============================] - 6s 528ms/step - loss: 0.1295\n",
            "Epoch 113/150\n",
            "12/12 [==============================] - 6s 531ms/step - loss: 0.1260\n",
            "Epoch 114/150\n",
            "12/12 [==============================] - 6s 531ms/step - loss: 0.1211\n",
            "Epoch 115/150\n",
            "12/12 [==============================] - 6s 530ms/step - loss: 0.1189\n",
            "Epoch 116/150\n",
            "12/12 [==============================] - 6s 528ms/step - loss: 0.1150\n",
            "Epoch 117/150\n",
            "12/12 [==============================] - 6s 526ms/step - loss: 0.1126\n",
            "Epoch 118/150\n",
            "12/12 [==============================] - 6s 529ms/step - loss: 0.1090\n",
            "Epoch 119/150\n",
            "12/12 [==============================] - 6s 525ms/step - loss: 0.1051\n",
            "Epoch 120/150\n",
            "12/12 [==============================] - 6s 529ms/step - loss: 0.1043\n",
            "Epoch 121/150\n",
            "12/12 [==============================] - 6s 531ms/step - loss: 0.0996\n",
            "Epoch 122/150\n",
            "12/12 [==============================] - 6s 527ms/step - loss: 0.0966\n",
            "Epoch 123/150\n",
            "12/12 [==============================] - 6s 526ms/step - loss: 0.0947\n",
            "Epoch 124/150\n",
            "12/12 [==============================] - 6s 525ms/step - loss: 0.0915\n",
            "Epoch 125/150\n",
            "12/12 [==============================] - 7s 614ms/step - loss: 0.0890\n",
            "Epoch 126/150\n",
            "12/12 [==============================] - 6s 528ms/step - loss: 0.0881\n",
            "Epoch 127/150\n",
            "12/12 [==============================] - 6s 529ms/step - loss: 0.0837\n",
            "Epoch 128/150\n",
            "12/12 [==============================] - 6s 527ms/step - loss: 0.0814\n",
            "Epoch 129/150\n",
            "12/12 [==============================] - 6s 531ms/step - loss: 0.0792\n",
            "Epoch 130/150\n",
            "12/12 [==============================] - 6s 529ms/step - loss: 0.0766\n",
            "Epoch 131/150\n",
            "12/12 [==============================] - 6s 530ms/step - loss: 0.0745\n",
            "Epoch 132/150\n",
            "12/12 [==============================] - 6s 529ms/step - loss: 0.0722\n",
            "Epoch 133/150\n",
            "12/12 [==============================] - 6s 530ms/step - loss: 0.0709\n",
            "Epoch 134/150\n",
            "12/12 [==============================] - 6s 529ms/step - loss: 0.0694\n",
            "Epoch 135/150\n",
            "12/12 [==============================] - 6s 527ms/step - loss: 0.0660\n",
            "Epoch 136/150\n",
            "12/12 [==============================] - 6s 530ms/step - loss: 0.0640\n",
            "Epoch 137/150\n",
            "12/12 [==============================] - 6s 528ms/step - loss: 0.0622\n",
            "Epoch 138/150\n",
            "12/12 [==============================] - 6s 529ms/step - loss: 0.0609\n",
            "Epoch 139/150\n",
            "12/12 [==============================] - 6s 532ms/step - loss: 0.0581\n",
            "Epoch 140/150\n",
            "12/12 [==============================] - 6s 528ms/step - loss: 0.0575\n",
            "Epoch 141/150\n",
            "12/12 [==============================] - 6s 530ms/step - loss: 0.0558\n",
            "Epoch 142/150\n",
            "12/12 [==============================] - 6s 532ms/step - loss: 0.0552\n",
            "Epoch 143/150\n",
            "12/12 [==============================] - 6s 533ms/step - loss: 0.0523\n",
            "Epoch 144/150\n",
            "12/12 [==============================] - 6s 535ms/step - loss: 0.0504\n",
            "Epoch 145/150\n",
            "12/12 [==============================] - 6s 528ms/step - loss: 0.0491\n",
            "Epoch 146/150\n",
            "12/12 [==============================] - 6s 529ms/step - loss: 0.0492\n",
            "Epoch 147/150\n",
            "12/12 [==============================] - 6s 530ms/step - loss: 0.0466\n",
            "Epoch 148/150\n",
            "12/12 [==============================] - 6s 530ms/step - loss: 0.0459\n",
            "Epoch 149/150\n",
            "12/12 [==============================] - 6s 532ms/step - loss: 0.0441\n",
            "Epoch 150/150\n",
            "12/12 [==============================] - 6s 529ms/step - loss: 0.0428\n"
          ]
        }
      ]
    },
    {
      "cell_type": "code",
      "source": [
        "def make_inference_models():\n",
        "    \n",
        "    encoder_model = tf.keras.models.Model(encoder_inputs, encoder_states)\n",
        "    \n",
        "    decoder_state_input_h = tf.keras.layers.Input(shape=( 200 ,))\n",
        "    decoder_state_input_c = tf.keras.layers.Input(shape=( 200 ,))\n",
        "    \n",
        "    decoder_states_inputs = [decoder_state_input_h, decoder_state_input_c]\n",
        "    \n",
        "    decoder_outputs, state_h, state_c = decoder_lstm(\n",
        "        decoder_embedding , initial_state=decoder_states_inputs)\n",
        "    \n",
        "    decoder_states = [state_h, state_c]\n",
        "\n",
        "    decoder_outputs = decoder_dense(decoder_outputs)\n",
        "    \n",
        "    decoder_model = tf.keras.models.Model(\n",
        "        [decoder_inputs] + decoder_states_inputs,\n",
        "        [decoder_outputs] + decoder_states)\n",
        "    \n",
        "    return encoder_model , decoder_model"
      ],
      "metadata": {
        "id": "FbxDbzDYduJy"
      },
      "execution_count": null,
      "outputs": []
    },
    {
      "cell_type": "code",
      "source": [
        "def str_to_tokens( sentence : str ):\n",
        "\n",
        "    words = sentence.lower().split()\n",
        "    tokens_list = list()\n",
        "  \n",
        "    for word in words:\n",
        "        tokens_list.append( tokenizer.word_index[ word ] ) \n",
        "    return preprocessing.sequence.pad_sequences( [tokens_list] , maxlen=maxlen_questions , padding='post')"
      ],
      "metadata": {
        "id": "Rf9oSzVQdzBQ"
      },
      "execution_count": null,
      "outputs": []
    },
    {
      "cell_type": "code",
      "source": [
        "enc_model , dec_model = make_inference_models()\n",
        "\n",
        "print(\"Hello, I am Bot, Chat Bot. How can I help you?\")\n",
        "for _ in range(10):\n",
        "    states_values = enc_model.predict( str_to_tokens( input( 'YOU : ' ) ) )\n",
        "    empty_target_seq = np.zeros( ( 1 , 1 ) )\n",
        "    empty_target_seq[0, 0] = tokenizer.word_index['start']\n",
        "    stop_condition = False\n",
        "    decoded_translation = ''\n",
        "    while not stop_condition :\n",
        "        dec_outputs , h , c = dec_model.predict([ empty_target_seq ] + states_values )\n",
        "        sampled_word_index = np.argmax( dec_outputs[0, -1, :] )\n",
        "        sampled_word = None\n",
        "        for word , index in tokenizer.word_index.items() :\n",
        "            if sampled_word_index == index :\n",
        "                decoded_translation += ' {}'.format( word )\n",
        "                sampled_word = word\n",
        "        \n",
        "        if sampled_word == 'end' or len(decoded_translation.split()) > maxlen_answers:\n",
        "            stop_condition = True\n",
        "            \n",
        "        empty_target_seq = np.zeros( ( 1 , 1 ) )  \n",
        "        empty_target_seq[ 0 , 0 ] = sampled_word_index\n",
        "        states_values = [ h , c ] \n",
        "\n",
        "    print( \"BOT: \" + decoded_translation )"
      ],
      "metadata": {
        "colab": {
          "base_uri": "https://localhost:8080/"
        },
        "id": "GwElEwCGd4d4",
        "outputId": "97b3c426-219a-476c-bb64-a7203237ac4a"
      },
      "execution_count": null,
      "outputs": [
        {
          "output_type": "stream",
          "name": "stdout",
          "text": [
            "Hello, I am Bot, Chat Bot. How can I help you?\n",
            "YOU : hello\n",
            "WARNING:tensorflow:Model was constructed with shape (None, 74) for input KerasTensor(type_spec=TensorSpec(shape=(None, 74), dtype=tf.float32, name='input_2'), name='input_2', description=\"created by layer 'input_2'\"), but it was called on an input with incompatible shape (None, 1).\n",
            "BOT:  hi end\n",
            "YOU : how are you\n",
            "BOT:  i'm sure i am not a net end\n",
            "YOU : what is computer\n",
            "BOT:  a game with tall players end\n",
            "YOU : how old are you\n",
            "BOT:  i'm sure i think in your artificial intelligence end\n",
            "YOU : what is your age\n",
            "BOT:  quite young but a million times smarter than you end\n",
            "YOU : who made you\n",
            "BOT:  my favorite movie end\n",
            "YOU : who is spiderman\n",
            "BOT:  a comic book story made into a movie end\n",
            "YOU : what is apple\n",
            "BOT:  an established system of political administration by which a nation state district etc is governed end\n",
            "YOU : which os is the best\n",
            "BOT:  in course we say end\n",
            "YOU : end\n",
            "BOT:  hello end\n"
          ]
        }
      ]
    }
  ]
}